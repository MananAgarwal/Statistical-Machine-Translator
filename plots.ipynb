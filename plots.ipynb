{
 "cells": [
  {
   "cell_type": "code",
   "execution_count": 1,
   "metadata": {},
   "outputs": [],
   "source": [
    "import math\n",
    "import pandas as pd\n",
    "import numpy as np\n",
    "import matplotlib.pyplot as plt\n",
    "%matplotlib inline"
   ]
  },
  {
   "cell_type": "code",
   "execution_count": 2,
   "metadata": {},
   "outputs": [],
   "source": [
    "# Extract foreign and english vocabularies\n",
    "def vocab(sentence_pairs):\n",
    "    foreign_words = []\n",
    "    english_words = []\n",
    "\n",
    "    for sp in sentence_pairs:\n",
    "        for ew in sp[1]: \n",
    "            english_words.append(ew)\n",
    "        for fw in sp[0]: \n",
    "            foreign_words.append(fw)\n",
    "\n",
    "    english_words = sorted(list(set(english_words)), key=lambda s: s.lower()) \n",
    "    foreign_words = sorted(list(set(foreign_words)), key=lambda s: s.lower())\n",
    "    # print('English vocab: ', english_words)\n",
    "    # print('Foreign vocab: ', foreign_words)\n",
    "    return english_words,foreign_words"
   ]
  },
  {
   "cell_type": "code",
   "execution_count": 3,
   "metadata": {},
   "outputs": [],
   "source": [
    "# Vocabulary size of the english and foreign words\n",
    "def vocab_size(english_words,foreign_words):\n",
    "    english_vocab_size = len(english_words)\n",
    "    foreign_vocab_size = len(foreign_words)\n",
    "    print('english_vocab_size: ', english_vocab_size)\n",
    "    print('foreign_vocab_size: ', foreign_vocab_size)\n",
    "    return english_vocab_size,foreign_vocab_size"
   ]
  },
  {
   "cell_type": "code",
   "execution_count": 4,
   "metadata": {},
   "outputs": [],
   "source": [
    "def init_all(t, init_val, english_words, foreign_words):\n",
    "    for fw in foreign_words:\n",
    "        for ew in english_words:\n",
    "            tup = (ew, fw) # tuple required because dict key cannot be list\n",
    "            t[tup] = init_val"
   ]
  },
  {
   "cell_type": "code",
   "execution_count": 5,
   "metadata": {},
   "outputs": [],
   "source": [
    "def init_sentence_pairs(t, init_val, sentence_pairs):\n",
    "    for a in range(len(sentence_pairs)):\n",
    "        for d_word in sentence_pairs[a][0]:\n",
    "            for e_word in sentence_pairs[a][1]:\n",
    "                t[(e_word, d_word)] = init_val"
   ]
  },
  {
   "cell_type": "code",
   "execution_count": 6,
   "metadata": {
    "scrolled": true
   },
   "outputs": [
    {
     "name": "stdout",
     "output_type": "stream",
     "text": [
      "\n",
      "\n",
      " 500\n",
      "english_vocab_size:  2394\n",
      "foreign_vocab_size:  2607\n",
      "all_pairs: 6241158\n",
      "sentence_pairs: 199977\n",
      "\n",
      "\n",
      " 1000\n",
      "english_vocab_size:  3530\n",
      "foreign_vocab_size:  3953\n",
      "all_pairs: 13954090\n",
      "sentence_pairs: 356590\n",
      "\n",
      "\n",
      " 1500\n",
      "english_vocab_size:  4475\n",
      "foreign_vocab_size:  5086\n",
      "all_pairs: 22759850\n",
      "sentence_pairs: 489306\n",
      "\n",
      "\n",
      " 2000\n",
      "english_vocab_size:  5193\n",
      "foreign_vocab_size:  6023\n",
      "all_pairs: 31277439\n",
      "sentence_pairs: 611823\n",
      "\n",
      "\n",
      " 2500\n",
      "english_vocab_size:  5906\n",
      "foreign_vocab_size:  6891\n",
      "all_pairs: 40698246\n",
      "sentence_pairs: 720710\n",
      "\n",
      "\n",
      " 3000\n",
      "english_vocab_size:  6457\n",
      "foreign_vocab_size:  7654\n",
      "all_pairs: 49421878\n",
      "sentence_pairs: 814990\n",
      "\n",
      "\n",
      " 3500\n",
      "english_vocab_size:  6883\n",
      "foreign_vocab_size:  8262\n",
      "all_pairs: 56867346\n",
      "sentence_pairs: 903768\n",
      "\n",
      "\n",
      " 4000\n",
      "english_vocab_size:  7336\n",
      "foreign_vocab_size:  8908\n",
      "\n",
      "\n",
      " 6000\n",
      "english_vocab_size:  9080\n",
      "foreign_vocab_size:  11306\n",
      "\n",
      "\n",
      " 8000\n",
      "english_vocab_size:  10400\n",
      "foreign_vocab_size:  13205\n",
      "\n",
      "\n",
      " 10000\n",
      "english_vocab_size:  11439\n",
      "foreign_vocab_size:  14936\n",
      "\n",
      "\n",
      " 12000\n",
      "english_vocab_size:  12359\n",
      "foreign_vocab_size:  16489\n",
      "\n",
      "\n",
      " 14000\n",
      "english_vocab_size:  13356\n",
      "foreign_vocab_size:  18113\n",
      "\n",
      "\n",
      " 16000\n",
      "english_vocab_size:  14296\n",
      "foreign_vocab_size:  19672\n",
      "\n",
      "\n",
      " 18000\n",
      "english_vocab_size:  15175\n",
      "foreign_vocab_size:  21185\n",
      "\n",
      "\n",
      " 20000\n",
      "english_vocab_size:  15923\n",
      "foreign_vocab_size:  22487\n",
      "\n",
      "\n",
      " 24000\n",
      "english_vocab_size:  17180\n",
      "foreign_vocab_size:  24694\n",
      "\n",
      "\n",
      " 28000\n",
      "english_vocab_size:  18624\n",
      "foreign_vocab_size:  27117\n",
      "\n",
      "\n",
      " 32000\n",
      "english_vocab_size:  19820\n",
      "foreign_vocab_size:  29297\n",
      "\n",
      "\n",
      " 36000\n",
      "english_vocab_size:  20898\n",
      "foreign_vocab_size:  31304\n",
      "\n",
      "\n",
      " 40000\n",
      "english_vocab_size:  21718\n",
      "foreign_vocab_size:  32940\n",
      "\n",
      "\n",
      " 44000\n",
      "english_vocab_size:  22560\n",
      "foreign_vocab_size:  34522\n",
      "\n",
      "\n",
      " 48000\n",
      "english_vocab_size:  23309\n",
      "foreign_vocab_size:  36079\n"
     ]
    }
   ],
   "source": [
    "english_vocab = []\n",
    "dutch_vocab = []\n",
    "all_pairs = []\n",
    "new_pairs = []\n",
    "lines = []\n",
    "lines_for_pairs = []\n",
    "\n",
    "counter = 0\n",
    "for number_of_lines in range(500,4000,500):\n",
    "    lines.append(number_of_lines)\n",
    "    print(\"\\n\\n\",number_of_lines)\n",
    "    e_data=pd.read_csv(\"English_Updated.txt\",sep='\\n',header=None, nrows=number_of_lines)\n",
    "    d_data=pd.read_csv(\"Dutch_Updated.txt\",sep='\\n',header=None, nrows=number_of_lines)\n",
    "\n",
    "    df = pd.DataFrame(columns=['dutch','english'])\n",
    "\n",
    "    for a in range(len(e_data)):\n",
    "            df.loc[a] = d_data[0][a].split(\" \"),e_data[0][a].split(\" \")\n",
    "\n",
    "    del e_data\n",
    "    del d_data\n",
    "\n",
    "    sentence_pairs = df.to_numpy()\n",
    "    del df\n",
    "    \n",
    "    english_words,foreign_words = vocab(sentence_pairs)\n",
    "    english_vocab_size,foreign_vocab_size = vocab_size(english_words,foreign_words)\n",
    "    english_vocab.append(english_vocab_size) \n",
    "    dutch_vocab.append(foreign_vocab_size)\n",
    "    \n",
    "    lines_for_pairs.append(number_of_lines)\n",
    "    init_val = 1\n",
    "    t = {}\n",
    "    init_all(t, init_val, english_words, foreign_words)\n",
    "    all_pairs.append(len(t))\n",
    "    print(\"all_pairs:\", all_pairs[counter])\n",
    "\n",
    "    t = {}\n",
    "    init_sentence_pairs(t, init_val, sentence_pairs)\n",
    "    new_pairs.append(len(t))\n",
    "    print(\"sentence_pairs:\", new_pairs[counter])\n",
    "    \n",
    "    counter += 1\n",
    "\n",
    "    \n",
    "for number_of_lines in range(4000,20000,2000):\n",
    "    lines.append(number_of_lines)\n",
    "    print(\"\\n\\n\",number_of_lines)\n",
    "    e_data=pd.read_csv(\"English_Updated.txt\",sep='\\n',header=None, nrows=number_of_lines)\n",
    "    d_data=pd.read_csv(\"Dutch_Updated.txt\",sep='\\n',header=None, nrows=number_of_lines)\n",
    "\n",
    "    df = pd.DataFrame(columns=['dutch','english'])\n",
    "\n",
    "    for a in range(len(e_data)):\n",
    "            df.loc[a] = d_data[0][a].split(\" \"),e_data[0][a].split(\" \")\n",
    "\n",
    "    del e_data\n",
    "    del d_data\n",
    "\n",
    "    sentence_pairs = df.to_numpy()\n",
    "    del df\n",
    "    \n",
    "    english_words,foreign_words = vocab(sentence_pairs)\n",
    "    english_vocab_size,foreign_vocab_size = vocab_size(english_words,foreign_words)\n",
    "    english_vocab.append(english_vocab_size) \n",
    "    dutch_vocab.append(foreign_vocab_size)\n",
    "    \n",
    "    counter += 1\n",
    "    \n",
    "\n",
    "for number_of_lines in range(20000,50000,4000):\n",
    "    lines.append(number_of_lines)\n",
    "    print(\"\\n\\n\",number_of_lines)\n",
    "    e_data=pd.read_csv(\"English_Updated.txt\",sep='\\n',header=None, nrows=number_of_lines)\n",
    "    d_data=pd.read_csv(\"Dutch_Updated.txt\",sep='\\n',header=None, nrows=number_of_lines)\n",
    "\n",
    "    df = pd.DataFrame(columns=['dutch','english'])\n",
    "\n",
    "    for a in range(len(e_data)):\n",
    "            df.loc[a] = d_data[0][a].split(\" \"),e_data[0][a].split(\" \")\n",
    "\n",
    "    del e_data\n",
    "    del d_data\n",
    "\n",
    "    sentence_pairs = df.to_numpy()\n",
    "    del df\n",
    "    \n",
    "    english_words,foreign_words = vocab(sentence_pairs)\n",
    "    english_vocab_size,foreign_vocab_size = vocab_size(english_words,foreign_words)\n",
    "    english_vocab.append(english_vocab_size) \n",
    "    dutch_vocab.append(foreign_vocab_size)\n",
    "    \n",
    "    counter += 1"
   ]
  },
  {
   "cell_type": "code",
   "execution_count": 7,
   "metadata": {},
   "outputs": [
    {
     "data": {
      "image/png": "[encoded data removed]",
      "text/plain": [
       "<Figure size 432x288 with 1 Axes>"
      ]
     },
     "metadata": {
      "needs_background": "light"
     },
     "output_type": "display_data"
    }
   ],
   "source": [
    "plt.plot(lines,dutch_vocab, label=\"Dutch\")\n",
    "plt.plot(lines,english_vocab, label=\"English\")\n",
    "plt.title(\"Vocabulary size as a function of input lines\")\n",
    "plt.xlabel(\"Number of lines\")\n",
    "plt.ylabel(\"Vocabulary size\")\n",
    "plt.legend(loc='upper left')\n",
    "plt.show()"
   ]
  },
  {
   "cell_type": "code",
   "execution_count": 8,
   "metadata": {},
   "outputs": [
    {
     "data": {
      "image/png": "[encoded data removed]",
      "text/plain": [
       "<Figure size 432x288 with 1 Axes>"
      ]
     },
     "metadata": {
      "needs_background": "light"
     },
     "output_type": "display_data"
    }
   ],
   "source": [
    "plt.plot(lines_for_pairs,all_pairs, label=\"All pairs\")\n",
    "plt.plot(lines_for_pairs,new_pairs, label=\"Sentence pairs\")\n",
    "plt.title(\"Number of pairs as a function of input lines\")\n",
    "plt.xlabel(\"Number of lines\")\n",
    "plt.ylabel(\"Number of pairs\")\n",
    "plt.legend(loc='upper left')\n",
    "plt.show()"
   ]
  },
  {
   "cell_type": "code",
   "execution_count": 9,
   "metadata": {},
   "outputs": [
    {
     "name": "stdout",
     "output_type": "stream",
     "text": [
      "\n",
      "\n",
      " 75000\n",
      "english_vocab_size:  27871\n",
      "foreign_vocab_size:  45575\n",
      "\n",
      "\n",
      " 100000\n",
      "english_vocab_size:  31544\n",
      "foreign_vocab_size:  53205\n"
     ]
    }
   ],
   "source": [
    "for number_of_lines in range(75000,110000,25000):\n",
    "    lines.append(number_of_lines)\n",
    "    print(\"\\n\\n\",number_of_lines)\n",
    "    e_data=pd.read_csv(\"English_Updated.txt\",sep='\\n',header=None, nrows=number_of_lines)\n",
    "    d_data=pd.read_csv(\"Dutch_Updated.txt\",sep='\\n',header=None, nrows=number_of_lines)\n",
    "\n",
    "    df = pd.DataFrame(columns=['dutch','english'])\n",
    "\n",
    "    for a in range(len(e_data)):\n",
    "            df.loc[a] = d_data[0][a].split(\" \"),e_data[0][a].split(\" \")\n",
    "\n",
    "    del e_data\n",
    "    del d_data\n",
    "\n",
    "    sentence_pairs = df.to_numpy()\n",
    "    del df\n",
    "    \n",
    "    english_words,foreign_words = vocab(sentence_pairs)\n",
    "    english_vocab_size,foreign_vocab_size = vocab_size(english_words,foreign_words)\n",
    "    english_vocab.append(english_vocab_size) \n",
    "    dutch_vocab.append(foreign_vocab_size)\n",
    "    \n",
    "    counter += 1"
   ]
  },
  {
   "cell_type": "code",
   "execution_count": 10,
   "metadata": {},
   "outputs": [
    {
     "data": {
      "image/png": "[encoded data removed]",
      "text/plain": [
       "<Figure size 432x288 with 1 Axes>"
      ]
     },
     "metadata": {
      "needs_background": "light"
     },
     "output_type": "display_data"
    }
   ],
   "source": [
    "plt.plot(lines,dutch_vocab, label=\"Dutch\")\n",
    "plt.plot(lines,english_vocab, label=\"English\")\n",
    "plt.title(\"Vocabulary size as a function of input lines\")\n",
    "plt.xlabel(\"Number of lines\")\n",
    "plt.ylabel(\"Vocabulary size\")\n",
    "plt.legend(loc='upper left')\n",
    "plt.show()"
   ]
  },
  {
   "cell_type": "code",
   "execution_count": null,
   "metadata": {},
   "outputs": [],
   "source": []
  }
 ],
 "metadata": {
  "kernelspec": {
   "display_name": "Python 3",
   "language": "python",
   "name": "python3"
  },
  "language_info": {
   "codemirror_mode": {
    "name": "ipython",
    "version": 3
   },
   "file_extension": ".py",
   "mimetype": "text/x-python",
   "name": "python",
   "nbconvert_exporter": "python",
   "pygments_lexer": "ipython3",
   "version": "3.6.9"
  }
 },
 "nbformat": 4,
 "nbformat_minor": 2
}
